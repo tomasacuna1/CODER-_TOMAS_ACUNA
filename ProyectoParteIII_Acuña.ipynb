{
 "cells": [
  {
   "cell_type": "code",
   "execution_count": 1,
   "id": "595f8be4",
   "metadata": {},
   "outputs": [
    {
     "data": {
      "application/vnd.microsoft.datawrangler.viewer.v0+json": {
       "columns": [
        {
         "name": "index",
         "rawType": "int64",
         "type": "integer"
        },
        {
         "name": "PassengerId",
         "rawType": "int64",
         "type": "integer"
        },
        {
         "name": "Survived",
         "rawType": "int64",
         "type": "integer"
        },
        {
         "name": "Pclass",
         "rawType": "int64",
         "type": "integer"
        },
        {
         "name": "Name",
         "rawType": "object",
         "type": "string"
        },
        {
         "name": "Sex",
         "rawType": "object",
         "type": "string"
        },
        {
         "name": "Age",
         "rawType": "float64",
         "type": "float"
        },
        {
         "name": "SibSp",
         "rawType": "int64",
         "type": "integer"
        },
        {
         "name": "Parch",
         "rawType": "int64",
         "type": "integer"
        },
        {
         "name": "Ticket",
         "rawType": "object",
         "type": "string"
        },
        {
         "name": "Fare",
         "rawType": "float64",
         "type": "float"
        },
        {
         "name": "Cabin",
         "rawType": "object",
         "type": "unknown"
        },
        {
         "name": "Embarked",
         "rawType": "object",
         "type": "string"
        }
       ],
       "ref": "a940f877-cb86-4f0a-95f4-92023ff323ea",
       "rows": [
        [
         "0",
         "1",
         "0",
         "3",
         "Braund, Mr. Owen Harris",
         "male",
         "22.0",
         "1",
         "0",
         "A/5 21171",
         "7.25",
         null,
         "S"
        ]
       ],
       "shape": {
        "columns": 12,
        "rows": 1
       }
      },
      "text/html": [
       "<div>\n",
       "<style scoped>\n",
       "    .dataframe tbody tr th:only-of-type {\n",
       "        vertical-align: middle;\n",
       "    }\n",
       "\n",
       "    .dataframe tbody tr th {\n",
       "        vertical-align: top;\n",
       "    }\n",
       "\n",
       "    .dataframe thead th {\n",
       "        text-align: right;\n",
       "    }\n",
       "</style>\n",
       "<table border=\"1\" class=\"dataframe\">\n",
       "  <thead>\n",
       "    <tr style=\"text-align: right;\">\n",
       "      <th></th>\n",
       "      <th>PassengerId</th>\n",
       "      <th>Survived</th>\n",
       "      <th>Pclass</th>\n",
       "      <th>Name</th>\n",
       "      <th>Sex</th>\n",
       "      <th>Age</th>\n",
       "      <th>SibSp</th>\n",
       "      <th>Parch</th>\n",
       "      <th>Ticket</th>\n",
       "      <th>Fare</th>\n",
       "      <th>Cabin</th>\n",
       "      <th>Embarked</th>\n",
       "    </tr>\n",
       "  </thead>\n",
       "  <tbody>\n",
       "    <tr>\n",
       "      <th>0</th>\n",
       "      <td>1</td>\n",
       "      <td>0</td>\n",
       "      <td>3</td>\n",
       "      <td>Braund, Mr. Owen Harris</td>\n",
       "      <td>male</td>\n",
       "      <td>22.0</td>\n",
       "      <td>1</td>\n",
       "      <td>0</td>\n",
       "      <td>A/5 21171</td>\n",
       "      <td>7.25</td>\n",
       "      <td>NaN</td>\n",
       "      <td>S</td>\n",
       "    </tr>\n",
       "  </tbody>\n",
       "</table>\n",
       "</div>"
      ],
      "text/plain": [
       "   PassengerId  Survived  Pclass                     Name   Sex   Age  SibSp  \\\n",
       "0            1         0       3  Braund, Mr. Owen Harris  male  22.0      1   \n",
       "\n",
       "   Parch     Ticket  Fare Cabin Embarked  \n",
       "0      0  A/5 21171  7.25   NaN        S  "
      ]
     },
     "execution_count": 1,
     "metadata": {},
     "output_type": "execute_result"
    }
   ],
   "source": [
    "# BLOQUE 1 \n",
    "\n",
    "import pandas as pd\n",
    "\n",
    "database_titanic = pd.read_csv(\n",
    "    'https://raw.githubusercontent.com/tomasacuna1/Coder-House-/main/train.csv'\n",
    ")\n",
    "\n",
    "database_titanic.head(1)\n"
   ]
  },
  {
   "cell_type": "code",
   "execution_count": 2,
   "id": "369ba430",
   "metadata": {},
   "outputs": [
    {
     "name": "stdout",
     "output_type": "stream",
     "text": [
      "Filas y columnas: (891, 12)\n",
      "\n",
      "Tipos de datos:\n",
      "PassengerId      int64\n",
      "Survived         int64\n",
      "Pclass           int64\n",
      "Name            object\n",
      "Sex             object\n",
      "Age            float64\n",
      "SibSp            int64\n",
      "Parch            int64\n",
      "Ticket          object\n",
      "Fare           float64\n",
      "Cabin           object\n",
      "Embarked        object\n",
      "dtype: object\n",
      "\n",
      "Valores nulos por columna:\n",
      "PassengerId      0\n",
      "Survived         0\n",
      "Pclass           0\n",
      "Name             0\n",
      "Sex              0\n",
      "Age            177\n",
      "SibSp            0\n",
      "Parch            0\n",
      "Ticket           0\n",
      "Fare             0\n",
      "Cabin          687\n",
      "Embarked         2\n",
      "dtype: int64\n"
     ]
    }
   ],
   "source": [
    "#BLOQUE 2\n",
    "\n",
    "# Dimensiones de la tabla\n",
    "print(\"Filas y columnas:\", database_titanic.shape)\n",
    "\n",
    "# Tipos de datos\n",
    "print(\"\\nTipos de datos:\")\n",
    "print(database_titanic.dtypes)\n",
    "\n",
    "# Datos faltantes\n",
    "print(\"\\nValores nulos por columna:\")\n",
    "print(database_titanic.isnull().sum())\n"
   ]
  },
  {
   "cell_type": "code",
   "execution_count": 3,
   "id": "5e7fc8bf",
   "metadata": {},
   "outputs": [
    {
     "name": "stdout",
     "output_type": "stream",
     "text": [
      "<class 'pandas.core.frame.DataFrame'>\n",
      "RangeIndex: 891 entries, 0 to 890\n",
      "Data columns (total 12 columns):\n",
      " #   Column       Non-Null Count  Dtype  \n",
      "---  ------       --------------  -----  \n",
      " 0   PassengerId  891 non-null    int64  \n",
      " 1   Survived     891 non-null    int64  \n",
      " 2   Pclass       891 non-null    int64  \n",
      " 3   Name         891 non-null    object \n",
      " 4   Sex          891 non-null    object \n",
      " 5   Age          714 non-null    float64\n",
      " 6   SibSp        891 non-null    int64  \n",
      " 7   Parch        891 non-null    int64  \n",
      " 8   Ticket       891 non-null    object \n",
      " 9   Fare         891 non-null    float64\n",
      " 10  Cabin        204 non-null    object \n",
      " 11  Embarked     889 non-null    object \n",
      "dtypes: float64(2), int64(5), object(5)\n",
      "memory usage: 83.7+ KB\n"
     ]
    }
   ],
   "source": [
    "#BLOQUE 3\n",
    "\n",
    "database_titanic.info()"
   ]
  },
  {
   "cell_type": "code",
   "execution_count": 4,
   "id": "e1603d58",
   "metadata": {},
   "outputs": [],
   "source": [
    "#BLOQUE 4\n",
    "\n",
    "database_titanic[\"Survived\"] = database_titanic[\"Survived\"].astype('bool')"
   ]
  },
  {
   "cell_type": "code",
   "execution_count": 5,
   "id": "36d59783",
   "metadata": {},
   "outputs": [
    {
     "data": {
      "application/vnd.microsoft.datawrangler.viewer.v0+json": {
       "columns": [
        {
         "name": "index",
         "rawType": "object",
         "type": "string"
        },
        {
         "name": "0",
         "rawType": "int64",
         "type": "integer"
        }
       ],
       "ref": "1f6d77dd-0a99-46a8-8451-d3c7f2407cd1",
       "rows": [
        [
         "PassengerId",
         "0"
        ],
        [
         "Survived",
         "0"
        ],
        [
         "Pclass",
         "0"
        ],
        [
         "Name",
         "0"
        ],
        [
         "Sex",
         "0"
        ],
        [
         "Age",
         "177"
        ],
        [
         "SibSp",
         "0"
        ],
        [
         "Parch",
         "0"
        ],
        [
         "Ticket",
         "0"
        ],
        [
         "Fare",
         "0"
        ],
        [
         "Cabin",
         "687"
        ],
        [
         "Embarked",
         "2"
        ]
       ],
       "shape": {
        "columns": 1,
        "rows": 12
       }
      },
      "text/plain": [
       "PassengerId      0\n",
       "Survived         0\n",
       "Pclass           0\n",
       "Name             0\n",
       "Sex              0\n",
       "Age            177\n",
       "SibSp            0\n",
       "Parch            0\n",
       "Ticket           0\n",
       "Fare             0\n",
       "Cabin          687\n",
       "Embarked         2\n",
       "dtype: int64"
      ]
     },
     "execution_count": 5,
     "metadata": {},
     "output_type": "execute_result"
    }
   ],
   "source": [
    "# BLOQUE 5\n",
    "\n",
    "database_titanic.isnull().sum()"
   ]
  },
  {
   "cell_type": "code",
   "execution_count": 6,
   "id": "88a46741",
   "metadata": {},
   "outputs": [
    {
     "name": "stderr",
     "output_type": "stream",
     "text": [
      "C:\\Users\\tomas\\AppData\\Local\\Temp\\ipykernel_32036\\4104148910.py:3: FutureWarning: A value is trying to be set on a copy of a DataFrame or Series through chained assignment using an inplace method.\n",
      "The behavior will change in pandas 3.0. This inplace method will never work because the intermediate object on which we are setting values always behaves as a copy.\n",
      "\n",
      "For example, when doing 'df[col].method(value, inplace=True)', try using 'df.method({col: value}, inplace=True)' or df[col] = df[col].method(value) instead, to perform the operation inplace on the original object.\n",
      "\n",
      "\n",
      "  database_titanic[\"Age\"].fillna(database_titanic[\"Age\"].median(), inplace=True)\n"
     ]
    }
   ],
   "source": [
    "#BLOQUE 6\n",
    "\n",
    "database_titanic[\"Age\"].fillna(database_titanic[\"Age\"].median(), inplace=True) \n",
    "database_titanic[\"Cabin\"] = database_titanic[\"Cabin\"].fillna(\"Not_defined\")\n",
    "database_titanic[\"Embarked\"] = database_titanic[\"Embarked\"].fillna(\"Not_defined\")"
   ]
  },
  {
   "cell_type": "code",
   "execution_count": 7,
   "id": "e1436034",
   "metadata": {},
   "outputs": [
    {
     "data": {
      "application/vnd.microsoft.datawrangler.viewer.v0+json": {
       "columns": [
        {
         "name": "index",
         "rawType": "object",
         "type": "string"
        },
        {
         "name": "0",
         "rawType": "int64",
         "type": "integer"
        }
       ],
       "ref": "77d66275-0069-41a0-b41b-3a94292c82d8",
       "rows": [
        [
         "PassengerId",
         "0"
        ],
        [
         "Survived",
         "0"
        ],
        [
         "Pclass",
         "0"
        ],
        [
         "Name",
         "0"
        ],
        [
         "Sex",
         "0"
        ],
        [
         "Age",
         "0"
        ],
        [
         "SibSp",
         "0"
        ],
        [
         "Parch",
         "0"
        ],
        [
         "Ticket",
         "0"
        ],
        [
         "Fare",
         "0"
        ],
        [
         "Cabin",
         "0"
        ],
        [
         "Embarked",
         "0"
        ]
       ],
       "shape": {
        "columns": 1,
        "rows": 12
       }
      },
      "text/plain": [
       "PassengerId    0\n",
       "Survived       0\n",
       "Pclass         0\n",
       "Name           0\n",
       "Sex            0\n",
       "Age            0\n",
       "SibSp          0\n",
       "Parch          0\n",
       "Ticket         0\n",
       "Fare           0\n",
       "Cabin          0\n",
       "Embarked       0\n",
       "dtype: int64"
      ]
     },
     "execution_count": 7,
     "metadata": {},
     "output_type": "execute_result"
    }
   ],
   "source": [
    "# BLOQUE 7 \n",
    "\n",
    "database_titanic.isnull().sum() #Verificación final de nulos"
   ]
  },
  {
   "cell_type": "code",
   "execution_count": 8,
   "id": "61554166",
   "metadata": {},
   "outputs": [
    {
     "name": "stdout",
     "output_type": "stream",
     "text": [
      "(891, 12) ['PassengerId', 'Survived', 'Pclass', 'Name', 'Sex', 'Age', 'SibSp', 'Parch', 'Ticket', 'Fare', 'Cabin', 'Embarked']\n"
     ]
    }
   ],
   "source": [
    "# BLOQUE 8\n",
    "\n",
    "SEP = ','    \n",
    "DEC = '.'    \n",
    "TEST_SIZE = 0.25\n",
    "RANDOM_STATE = 12\n",
    "MAX_K = 10\n",
    "TARGET_COL = None\n",
    " \n",
    "print(database_titanic.shape, database_titanic.columns.tolist())\n"
   ]
  },
  {
   "cell_type": "code",
   "execution_count": 9,
   "id": "fa86d325",
   "metadata": {},
   "outputs": [
    {
     "name": "stdout",
     "output_type": "stream",
     "text": [
      "X shape: (891, 10) | y shape: (891,)\n",
      "Numéricas: 6 Categóricas: 4\n"
     ]
    }
   ],
   "source": [
    "# ======================================\n",
    "# BLOQUE 9 — Preparación de features (Fare + Deck) y construcción de X / y\n",
    "# ======================================\n",
    "import numpy as np\n",
    "import pandas as pd\n",
    "\n",
    "df = database_titanic.copy()\n",
    "\n",
    "# Señales útiles\n",
    "df['FamilySize'] = df['SibSp'].fillna(0) + df['Parch'].fillna(0) + 1\n",
    "df['IsAlone'] = (df['FamilySize'] == 1).astype(int)\n",
    "\n",
    "# (Opcional) Title desde Name (si no lo quieres, elimina esta sección)\n",
    "if 'Name' in df.columns:\n",
    "    df['Title'] = df['Name'].str.extract(r',\\s*([^\\.]+)\\.', expand=False)\n",
    "    title_map = {\n",
    "        'Mlle':'Miss','Ms':'Miss','Mme':'Mrs','Lady':'Noble','the Countess':'Noble',\n",
    "        'Sir':'Noble','Don':'Noble','Dona':'Noble','Capt':'Officer','Col':'Officer',\n",
    "        'Major':'Officer','Jonkheer':'Noble','Rev':'Clergy','Dr':'Professional'\n",
    "    }\n",
    "    df['Title'] = df['Title'].replace(title_map)\n",
    "    comunes = ['Mr','Mrs','Miss','Master','Professional','Officer','Noble']\n",
    "    df['Title'] = df['Title'].where(df['Title'].isin(comunes), 'Rare')\n",
    "\n",
    "# Deck desde Cabin (primera letra)\n",
    "deck = (\n",
    "    df['Cabin'].astype(str).str.split().str[0].str.extract(r'^([A-Za-z])', expand=False)\n",
    ")\n",
    "df['Deck'] = deck.fillna('Unknown')\n",
    "\n",
    "# Limpiezas mínimas\n",
    "df['Fare'] = df['Fare'].fillna(df['Fare'].median())\n",
    "if df['Embarked'].isna().any():\n",
    "    df['Embarked'] = df['Embarked'].fillna(df['Embarked'].mode().iloc[0])\n",
    "\n",
    "# Objetivo: Fare\n",
    "TARGET_COL = 'Fare'\n",
    "y = df[TARGET_COL]\n",
    "\n",
    "# X: quitamos el target y columnas que NO deben ser predictoras\n",
    "X = df.drop(columns=[TARGET_COL])\n",
    "for col in ['PassengerId', 'Name', 'Ticket', 'Survived', 'Cabin']:\n",
    "    if col in X.columns:\n",
    "        X = X.drop(columns=[col])\n",
    "\n",
    "# Definir numéricas y categóricas para el preprocess\n",
    "num_cols = X.select_dtypes(include='number').columns.tolist()\n",
    "cat_cols = [c for c in X.columns if c not in num_cols]\n",
    "\n",
    "print(\"X shape:\", X.shape, \"| y shape:\", y.shape)\n",
    "print(\"Numéricas:\", len(num_cols), \"Categóricas:\", len(cat_cols))\n"
   ]
  },
  {
   "cell_type": "code",
   "execution_count": 10,
   "id": "cbc71d3e",
   "metadata": {},
   "outputs": [
    {
     "name": "stdout",
     "output_type": "stream",
     "text": [
      "Features tras preprocesamiento: 29 | K SelectKBest: 10\n",
      "Ejemplos de nombres legibles:\n",
      "  Pclass  ->  Clase\n",
      "  Age  ->  Edad\n",
      "  SibSp  ->  Hermanos/Conyuges\n",
      "  Parch  ->  Padres/Hijos\n",
      "  FamilySize  ->  TamañoFamilia\n",
      "  IsAlone  ->  ViajaSolo (1 = sí)\n",
      "  Sex_female  ->  Sexo = mujer\n",
      "  Sex_male  ->  Sexo = hombre\n",
      "  Embarked_C  ->  Puerto = C\n",
      "  Embarked_Not_defined  ->  Puerto = Not_defined\n"
     ]
    }
   ],
   "source": [
    "# BLOQUE 10\n",
    "\n",
    "from sklearn.compose import ColumnTransformer\n",
    "from sklearn.pipeline import Pipeline\n",
    "from sklearn.impute import SimpleImputer\n",
    "from sklearn.preprocessing import OneHotEncoder, StandardScaler\n",
    "from sklearn.feature_selection import SelectKBest, f_regression\n",
    "from sklearn.linear_model import LinearRegression\n",
    "\n",
    "# 0) Excluir columnas que NO deben ser predictoras\n",
    "cols_to_exclude = [c for c in ['PassengerId', 'Name', 'Ticket'] if c in X.columns]\n",
    "if cols_to_exclude:\n",
    "    X = X.drop(columns=cols_to_exclude)\n",
    "\n",
    "# Recalcular listas de columnas tras la exclusión\n",
    "num_cols = X.select_dtypes(include='number').columns.tolist()\n",
    "cat_cols = [c for c in X.columns if c not in num_cols]\n",
    "\n",
    "# 1) Pipelines de preprocesamiento\n",
    "numeric_pipe = Pipeline(steps=[\n",
    "    (\"imputer\", SimpleImputer(strategy=\"median\")),\n",
    "    (\"scaler\", StandardScaler())\n",
    "])\n",
    "categorical_pipe = Pipeline(steps=[\n",
    "    (\"imputer\", SimpleImputer(strategy=\"most_frequent\")),\n",
    "    (\"onehot\", OneHotEncoder(handle_unknown=\"ignore\"))  # mantenemos todas las dummies\n",
    "])\n",
    "\n",
    "# 2) ColumnTransformer (intentamos nombres sin prefijos)\n",
    "try:\n",
    "    preprocess = ColumnTransformer(\n",
    "        transformers=[\n",
    "            (\"num\", numeric_pipe, num_cols),\n",
    "            (\"cat\", categorical_pipe, cat_cols)\n",
    "        ],\n",
    "        remainder=\"drop\",\n",
    "        verbose_feature_names_out=False  # quita 'num__' y 'cat__' si tu sklearn lo soporta\n",
    "    )\n",
    "except TypeError:\n",
    "    preprocess = ColumnTransformer(\n",
    "        transformers=[\n",
    "            (\"num\", numeric_pipe, num_cols),\n",
    "            (\"cat\", categorical_pipe, cat_cols)\n",
    "        ],\n",
    "        remainder=\"drop\"\n",
    "    )\n",
    "\n",
    "# 3) Fit previo para saber cuántas columnas quedan tras el preprocess\n",
    "X_pre = preprocess.fit_transform(X, y)\n",
    "n_feats = X_pre.shape[1]\n",
    "K = min(MAX_K, n_feats) if n_feats > 0 else 0\n",
    "print(f\"Features tras preprocesamiento: {n_feats} | K SelectKBest: {K}\")\n",
    "if K == 0:\n",
    "    raise ValueError(\"No hay features disponibles tras el preprocesamiento.\")\n",
    "\n",
    "# 4) Construir nombres legibles\n",
    "def _prettify(name: str) -> str:\n",
    "    n = str(name)\n",
    "    for pref in (\"num__\", \"cat__\"):\n",
    "        if n.startswith(pref):\n",
    "            n = n[len(pref):]\n",
    "    feat_map = {\n",
    "        \"Sex\": \"Sexo\",\n",
    "        \"Embarked\": \"Puerto\",\n",
    "        \"Pclass\": \"Clase\",\n",
    "        \"Title\": \"Título\",\n",
    "        \"FamilySize\": \"TamañoFamilia\",\n",
    "        \"IsAlone\": \"ViajaSolo\",\n",
    "        \"SibSp\": \"Hermanos/Conyuges\",\n",
    "        \"Parch\": \"Padres/Hijos\",\n",
    "        \"Age\": \"Edad\",\n",
    "        \"Fare\": \"Tarifa\",\n",
    "        \"Cabin\": \"Cabina\"  \n",
    "    }\n",
    "    val_map = {\n",
    "        \"male\": \"hombre\",\n",
    "        \"female\": \"mujer\"\n",
    "    }\n",
    "    if \"_\" in n:\n",
    "        feat, val = n.split(\"_\", 1)\n",
    "        return f\"{feat_map.get(feat, feat)} = {val_map.get(val, val)}\"\n",
    "    return feat_map.get(n, n) + (\"\" if n != \"IsAlone\" else \" (1 = sí)\")\n",
    "\n",
    "try:\n",
    "    ALL_NAMES = list(preprocess.get_feature_names_out())\n",
    "except Exception:\n",
    "    ALL_NAMES = []\n",
    "    ALL_NAMES.extend(num_cols)\n",
    "    if len(cat_cols) > 0:\n",
    "        try:\n",
    "            ohe = preprocess.named_transformers_[\"cat\"].named_steps[\"onehot\"]\n",
    "            ALL_NAMES.extend(list(ohe.get_feature_names_out(cat_cols)))\n",
    "        except Exception:\n",
    "            ALL_NAMES.extend(cat_cols)\n",
    "\n",
    "ALL_NAMES_PRETTY = [_prettify(n) for n in ALL_NAMES]\n",
    "\n",
    "print(\"Ejemplos de nombres legibles:\")\n",
    "for a, b in list(zip(ALL_NAMES, ALL_NAMES_PRETTY))[:10]:\n",
    "    print(f\"  {a}  ->  {b}\")\n",
    "\n",
    "# 5) Selector y modelo\n",
    "selector = SelectKBest(score_func=f_regression, k=K)\n",
    "linreg = LinearRegression()\n",
    "\n",
    "pipe = Pipeline([\n",
    "    (\"prep\", preprocess),\n",
    "    (\"sel\", selector),\n",
    "    (\"linreg\", linreg)\n",
    "])\n",
    "\n",
    "\n"
   ]
  },
  {
   "cell_type": "code",
   "execution_count": 11,
   "id": "e34cd0f8",
   "metadata": {},
   "outputs": [
    {
     "name": "stdout",
     "output_type": "stream",
     "text": [
      "Métricas de Regresión Lineal (en £):\n",
      "  MAE : £19.38\n",
      "  RMSE: £33.72\n",
      "  R²  : 0.377\n"
     ]
    },
    {
     "data": {
      "image/png": "[encoded data removed]",
      "text/plain": [
       "<Figure size 1000x400 with 1 Axes>"
      ]
     },
     "metadata": {},
     "output_type": "display_data"
    },
    {
     "data": {
      "image/png": "[encoded data removed]",
      "text/plain": [
       "<Figure size 700x400 with 1 Axes>"
      ]
     },
     "metadata": {},
     "output_type": "display_data"
    },
    {
     "name": "stdout",
     "output_type": "stream",
     "text": [
      "               mean    median        std  count\n",
      "real_q                                         \n",
      "Q1(bajo)   2.879924 -3.331961  16.858692     56\n",
      "Q2         7.421980  7.479836  12.660064     56\n",
      "Q3        15.161581  6.126389  26.050590     55\n",
      "Q4(alto) -11.716774 -1.089782  55.374406     56\n"
     ]
    }
   ],
   "source": [
    "# BLOQUE 11\n",
    "\n",
    "from sklearn.model_selection import train_test_split\n",
    "from sklearn.metrics import mean_absolute_error, mean_squared_error, r2_score\n",
    "import matplotlib.pyplot as plt\n",
    "import numpy as np\n",
    "import warnings\n",
    "warnings.filterwarnings('ignore')\n",
    "\n",
    "np.random.seed(RANDOM_STATE)\n",
    "\n",
    "X_train, X_test, y_train, y_test = train_test_split(\n",
    "    X, y, test_size=TEST_SIZE, random_state=RANDOM_STATE\n",
    ")\n",
    "\n",
    "pipe.fit(X_train, y_train)\n",
    "y_pred = pipe.predict(X_test)\n",
    "\n",
    "MAE = mean_absolute_error(y_test, y_pred)\n",
    "try:\n",
    "    RMSE = mean_squared_error(y_test, y_pred, squared=False)\n",
    "except TypeError:\n",
    "    RMSE = np.sqrt(mean_squared_error(y_test, y_pred))\n",
    "R2 = r2_score(y_test, y_pred)\n",
    "\n",
    "print(\"Métricas de Regresión Lineal (en £):\")\n",
    "print(f\"  MAE : £{MAE:.2f}\")\n",
    "print(f\"  RMSE: £{RMSE:.2f}\")\n",
    "print(f\"  R²  : {R2:.3f}\")\n",
    "\n",
    "# Real vs Predicho\n",
    "plt.figure(figsize=(10,4))\n",
    "plt.scatter(y_test, y_pred, alpha=0.6)\n",
    "lo = min(y_test.min(), y_pred.min())\n",
    "hi = max(y_test.max(), y_pred.max())\n",
    "plt.plot([lo, hi], [lo, hi], linestyle='--')\n",
    "plt.xlabel(\"Fare real (£)\")\n",
    "plt.ylabel(\"Fare predicho (£)\")\n",
    "plt.title(\"Regresión Lineal — Real vs Predicho\")\n",
    "plt.show()\n",
    "\n",
    "import matplotlib.pyplot as plt\n",
    "\n",
    "# ======================================\n",
    "# 11B) Diagnóstico de residuos (opcional)\n",
    "# ======================================\n",
    "res = y_test - y_pred\n",
    "\n",
    "plt.figure(figsize=(7,4))\n",
    "plt.scatter(y_pred, res, alpha=0.5)\n",
    "plt.axhline(0, linestyle='--', color='k')\n",
    "plt.xlabel(\"Fare predicho (£)\")\n",
    "plt.ylabel(\"Residuo (real - predicho)\")\n",
    "plt.title(\"Residuos vs Predicho (ideal: nube centrada en 0, sin patrón)\")\n",
    "plt.tight_layout()\n",
    "plt.show()\n",
    "\n",
    "import pandas as pd\n",
    "aux = pd.DataFrame({\"real\": y_test, \"pred\": y_pred})\n",
    "aux[\"err\"] = aux[\"pred\"] - aux[\"real\"]\n",
    "aux[\"real_q\"] = pd.qcut(aux[\"real\"], 4, labels=[\"Q1(bajo)\",\"Q2\",\"Q3\",\"Q4(alto)\"])\n",
    "print(aux.groupby(\"real_q\")[\"err\"].agg([\"mean\",\"median\",\"std\",\"count\"]))\n"
   ]
  },
  {
   "cell_type": "code",
   "execution_count": 12,
   "id": "30bfa81e",
   "metadata": {},
   "outputs": [
    {
     "data": {
      "application/vnd.microsoft.datawrangler.viewer.v0+json": {
       "columns": [
        {
         "name": "index",
         "rawType": "int64",
         "type": "integer"
        },
        {
         "name": "Variable",
         "rawType": "object",
         "type": "string"
        },
        {
         "name": "Coeficiente",
         "rawType": "float64",
         "type": "float"
        }
       ],
       "ref": "eff0b0ed-f26c-41fe-bf9b-d15f65baa650",
       "rows": [
        [
         "0",
         "Deck = B",
         "65.59595475380887"
        ],
        [
         "1",
         "Deck = C",
         "43.57031442522704"
        ],
        [
         "2",
         "Clase",
         "-17.952276786517434"
        ],
        [
         "3",
         "Puerto = C",
         "16.701849449309403"
        ],
        [
         "4",
         "Deck = N",
         "6.851556478113277"
        ],
        [
         "5",
         "ViajaSolo (1 = sí)",
         "-6.694535748962842"
        ],
        [
         "6",
         "Sexo = mujer",
         "3.9466794721598477"
        ],
        [
         "7",
         "Sexo = hombre",
         "-3.946679472159839"
        ],
        [
         "8",
         "Título = Mr",
         "2.978116413287154"
        ],
        [
         "9",
         "Puerto = S",
         "-1.7644480262104298"
        ]
       ],
       "shape": {
        "columns": 2,
        "rows": 10
       }
      },
      "text/html": [
       "<div>\n",
       "<style scoped>\n",
       "    .dataframe tbody tr th:only-of-type {\n",
       "        vertical-align: middle;\n",
       "    }\n",
       "\n",
       "    .dataframe tbody tr th {\n",
       "        vertical-align: top;\n",
       "    }\n",
       "\n",
       "    .dataframe thead th {\n",
       "        text-align: right;\n",
       "    }\n",
       "</style>\n",
       "<table border=\"1\" class=\"dataframe\">\n",
       "  <thead>\n",
       "    <tr style=\"text-align: right;\">\n",
       "      <th></th>\n",
       "      <th>Variable</th>\n",
       "      <th>Coeficiente</th>\n",
       "    </tr>\n",
       "  </thead>\n",
       "  <tbody>\n",
       "    <tr>\n",
       "      <th>0</th>\n",
       "      <td>Deck = B</td>\n",
       "      <td>65.595955</td>\n",
       "    </tr>\n",
       "    <tr>\n",
       "      <th>1</th>\n",
       "      <td>Deck = C</td>\n",
       "      <td>43.570314</td>\n",
       "    </tr>\n",
       "    <tr>\n",
       "      <th>2</th>\n",
       "      <td>Clase</td>\n",
       "      <td>-17.952277</td>\n",
       "    </tr>\n",
       "    <tr>\n",
       "      <th>3</th>\n",
       "      <td>Puerto = C</td>\n",
       "      <td>16.701849</td>\n",
       "    </tr>\n",
       "    <tr>\n",
       "      <th>4</th>\n",
       "      <td>Deck = N</td>\n",
       "      <td>6.851556</td>\n",
       "    </tr>\n",
       "    <tr>\n",
       "      <th>5</th>\n",
       "      <td>ViajaSolo (1 = sí)</td>\n",
       "      <td>-6.694536</td>\n",
       "    </tr>\n",
       "    <tr>\n",
       "      <th>6</th>\n",
       "      <td>Sexo = mujer</td>\n",
       "      <td>3.946679</td>\n",
       "    </tr>\n",
       "    <tr>\n",
       "      <th>7</th>\n",
       "      <td>Sexo = hombre</td>\n",
       "      <td>-3.946679</td>\n",
       "    </tr>\n",
       "    <tr>\n",
       "      <th>8</th>\n",
       "      <td>Título = Mr</td>\n",
       "      <td>2.978116</td>\n",
       "    </tr>\n",
       "    <tr>\n",
       "      <th>9</th>\n",
       "      <td>Puerto = S</td>\n",
       "      <td>-1.764448</td>\n",
       "    </tr>\n",
       "  </tbody>\n",
       "</table>\n",
       "</div>"
      ],
      "text/plain": [
       "             Variable  Coeficiente\n",
       "0            Deck = B    65.595955\n",
       "1            Deck = C    43.570314\n",
       "2               Clase   -17.952277\n",
       "3          Puerto = C    16.701849\n",
       "4            Deck = N     6.851556\n",
       "5  ViajaSolo (1 = sí)    -6.694536\n",
       "6        Sexo = mujer     3.946679\n",
       "7       Sexo = hombre    -3.946679\n",
       "8         Título = Mr     2.978116\n",
       "9          Puerto = S    -1.764448"
      ]
     },
     "metadata": {},
     "output_type": "display_data"
    },
    {
     "data": {
      "image/png": "[encoded data removed]",
      "text/plain": [
       "<Figure size 800x600 with 1 Axes>"
      ]
     },
     "metadata": {},
     "output_type": "display_data"
    }
   ],
   "source": [
    "# BLOQUE 12\n",
    "\n",
    "import numpy as np\n",
    "import pandas as pd\n",
    "import matplotlib.pyplot as plt\n",
    "\n",
    "# 1) Nombres de columnas post-preprocesamiento (intuitivos)\n",
    "try:\n",
    "    # Preferimos los nombres \"bonitos\"\n",
    "    all_names = ALL_NAMES_PRETTY\n",
    "except NameError:\n",
    "    # Fallback si no existe ALL_NAMES_PRETTY\n",
    "    try:\n",
    "        all_names = list(preprocess.get_feature_names_out())\n",
    "    except Exception:\n",
    "        all_names = []\n",
    "        # numéricas originales\n",
    "        all_names.extend(num_cols)\n",
    "        # categóricas (dummies one-hot)\n",
    "        if len(cat_cols) > 0:\n",
    "            try:\n",
    "                ohe = preprocess.named_transformers_[\"cat\"].named_steps[\"onehot\"]\n",
    "                all_names.extend(list(ohe.get_feature_names_out(cat_cols)))\n",
    "            except Exception:\n",
    "                all_names.extend(cat_cols)\n",
    "\n",
    "# 2) Variables que pasaron SelectKBest\n",
    "mask = pipe.named_steps[\"sel\"].get_support()\n",
    "selected_names = [all_names[i] for i, keep in enumerate(mask) if keep]\n",
    "\n",
    "# 3) Coeficientes del modelo lineal (orden = selected_names)\n",
    "coefs = pipe.named_steps[\"linreg\"].coef_\n",
    "\n",
    "coef_df = pd.DataFrame({\n",
    "    \"Variable\": selected_names,\n",
    "    \"Coeficiente\": coefs\n",
    "}).sort_values(by=\"Coeficiente\", key=lambda s: s.abs(), ascending=False).reset_index(drop=True)\n",
    "\n",
    "display(coef_df.head(30))\n",
    "\n",
    "# 4) Gráfico (top 15 por |coef|)\n",
    "top = coef_df.head(10).sort_values(by=\"Coeficiente\")\n",
    "plt.figure(figsize=(8,6))\n",
    "plt.barh(top[\"Variable\"], top[\"Coeficiente\"])\n",
    "plt.title(\"Coeficientes (top 1 por |coef|) — Regresión Lineal\")\n",
    "plt.xlabel(\"Coeficiente\")\n",
    "plt.ylabel(\"Variable\")\n",
    "plt.tight_layout()\n",
    "plt.show()\n"
   ]
  },
  {
   "cell_type": "code",
   "execution_count": 13,
   "id": "64e58844",
   "metadata": {},
   "outputs": [
    {
     "name": "stdout",
     "output_type": "stream",
     "text": [
      "Tasa de supervivencia por cuartiles de Fare:\n"
     ]
    },
    {
     "data": {
      "application/vnd.microsoft.datawrangler.viewer.v0+json": {
       "columns": [
        {
         "name": "index",
         "rawType": "int64",
         "type": "integer"
        },
        {
         "name": "Fare_q",
         "rawType": "category",
         "type": "unknown"
        },
        {
         "name": "SurvivalRate",
         "rawType": "float64",
         "type": "float"
        },
        {
         "name": "n",
         "rawType": "int64",
         "type": "integer"
        },
        {
         "name": "SurvivalRate_%",
         "rawType": "float64",
         "type": "float"
        }
       ],
       "ref": "1aa1cecf-b3ee-4662-9d8b-c510c7c23bf2",
       "rows": [
        [
         "0",
         "Q1 (bajo)",
         "0.19730941704035873",
         "223",
         "19.7"
        ],
        [
         "1",
         "Q2",
         "0.30357142857142855",
         "224",
         "30.4"
        ],
        [
         "2",
         "Q3",
         "0.45495495495495497",
         "222",
         "45.5"
        ],
        [
         "3",
         "Q4 (alto)",
         "0.581081081081081",
         "222",
         "58.1"
        ]
       ],
       "shape": {
        "columns": 4,
        "rows": 4
       }
      },
      "text/html": [
       "<div>\n",
       "<style scoped>\n",
       "    .dataframe tbody tr th:only-of-type {\n",
       "        vertical-align: middle;\n",
       "    }\n",
       "\n",
       "    .dataframe tbody tr th {\n",
       "        vertical-align: top;\n",
       "    }\n",
       "\n",
       "    .dataframe thead th {\n",
       "        text-align: right;\n",
       "    }\n",
       "</style>\n",
       "<table border=\"1\" class=\"dataframe\">\n",
       "  <thead>\n",
       "    <tr style=\"text-align: right;\">\n",
       "      <th></th>\n",
       "      <th>Fare_q</th>\n",
       "      <th>SurvivalRate</th>\n",
       "      <th>n</th>\n",
       "      <th>SurvivalRate_%</th>\n",
       "    </tr>\n",
       "  </thead>\n",
       "  <tbody>\n",
       "    <tr>\n",
       "      <th>0</th>\n",
       "      <td>Q1 (bajo)</td>\n",
       "      <td>0.197309</td>\n",
       "      <td>223</td>\n",
       "      <td>19.7</td>\n",
       "    </tr>\n",
       "    <tr>\n",
       "      <th>1</th>\n",
       "      <td>Q2</td>\n",
       "      <td>0.303571</td>\n",
       "      <td>224</td>\n",
       "      <td>30.4</td>\n",
       "    </tr>\n",
       "    <tr>\n",
       "      <th>2</th>\n",
       "      <td>Q3</td>\n",
       "      <td>0.454955</td>\n",
       "      <td>222</td>\n",
       "      <td>45.5</td>\n",
       "    </tr>\n",
       "    <tr>\n",
       "      <th>3</th>\n",
       "      <td>Q4 (alto)</td>\n",
       "      <td>0.581081</td>\n",
       "      <td>222</td>\n",
       "      <td>58.1</td>\n",
       "    </tr>\n",
       "  </tbody>\n",
       "</table>\n",
       "</div>"
      ],
      "text/plain": [
       "      Fare_q  SurvivalRate    n  SurvivalRate_%\n",
       "0  Q1 (bajo)      0.197309  223            19.7\n",
       "1         Q2      0.303571  224            30.4\n",
       "2         Q3      0.454955  222            45.5\n",
       "3  Q4 (alto)      0.581081  222            58.1"
      ]
     },
     "metadata": {},
     "output_type": "display_data"
    },
    {
     "data": {
      "image/png": "[encoded data removed]",
      "text/plain": [
       "<Figure size 700x400 with 1 Axes>"
      ]
     },
     "metadata": {},
     "output_type": "display_data"
    },
    {
     "name": "stdout",
     "output_type": "stream",
     "text": [
      "Conclusión: la tasa de supervivencia en Q4 (tarifas altas) es 58.1% vs 19.7% en Q1 (tarifas bajas), una diferencia de 38.4 puntos porcentuales.\n"
     ]
    }
   ],
   "source": [
    "# ======================================\n",
    "# 13) Supervivencia por cuartiles de Fare (conclusión)\n",
    "# ======================================\n",
    "import numpy as np\n",
    "import pandas as pd\n",
    "import matplotlib.pyplot as plt\n",
    "\n",
    "# Tomamos el DF de trabajo\n",
    "df12 = df.copy() if 'df' in locals() else database_titanic.copy()\n",
    "\n",
    "# Asegurar consistencia\n",
    "df12['Fare'] = df12['Fare'].fillna(df12['Fare'].median())\n",
    "\n",
    "# Si Survived no es booleana/numérica \n",
    "if not (pd.api.types.is_bool_dtype(df12['Survived']) or pd.api.types.is_numeric_dtype(df12['Survived'])):\n",
    "    df12['Survived'] = df12['Survived'].astype(bool)\n",
    "\n",
    "# Cuartiles de Fare\n",
    "df12['Fare_q'] = pd.qcut(df12['Fare'], 4, labels=['Q1 (bajo)','Q2','Q3','Q4 (alto)'])\n",
    "\n",
    "# Tabla resumen: tasa de supervivencia y n por cuartil\n",
    "summary = (\n",
    "    df12.groupby('Fare_q')['Survived']\n",
    "        .agg(SurvivalRate='mean', n='size')\n",
    "        .reset_index()\n",
    ")\n",
    "summary['SurvivalRate_%'] = (summary['SurvivalRate'] * 100).round(1)\n",
    "\n",
    "print(\"Tasa de supervivencia por cuartiles de Fare:\")\n",
    "display(summary)\n",
    "\n",
    "# Gráfico\n",
    "plt.figure(figsize=(7,4))\n",
    "plt.bar(summary['Fare_q'].astype(str), summary['SurvivalRate_%'])\n",
    "plt.ylim(0, 100)\n",
    "plt.ylabel('Supervivencia (%)')\n",
    "plt.xlabel('Cuartiles de Fare')\n",
    "plt.title('Supervivencia por cuartiles de Fare (más caro → Q4)')\n",
    "plt.tight_layout()\n",
    "plt.show()\n",
    "\n",
    "# Conclusión automática (Q4 vs Q1)\n",
    "try:\n",
    "    q1 = float(summary.loc[summary['Fare_q']=='Q1 (bajo)', 'SurvivalRate'].iloc[0])\n",
    "    q4 = float(summary.loc[summary['Fare_q']=='Q4 (alto)', 'SurvivalRate'].iloc[0])\n",
    "    delta_pct = (q4 - q1) * 100\n",
    "    print(\n",
    "        f\"Conclusión: la tasa de supervivencia en Q4 (tarifas altas) es \"\n",
    "        f\"{q4*100:.1f}% vs {q1*100:.1f}% en Q1 (tarifas bajas), \"\n",
    "        f\"una diferencia de {delta_pct:.1f} puntos porcentuales.\"\n",
    "    )\n",
    "except Exception as e:\n",
    "    print(\"No fue posible calcular la comparación Q4 vs Q1:\", e)\n"
   ]
  },
  {
   "cell_type": "markdown",
   "id": "d07b6611",
   "metadata": {},
   "source": [
    "# Proyecto Titanic — Explicación simple (paso a paso)\n",
    "\n",
    "Este cuaderno busca **responder una pregunta sencilla**:  \n",
    "> *¿Las variables ligadas al estatus (clase, cabina, etc.) explican el **precio del pasaje (Fare)** y se relacionan con la **supervivencia**?*\n",
    "\n",
    "Para eso, hacemos una **regresión lineal** sobre `Fare` y luego conectamos con `Survived`.\n",
    "\n",
    "---\n",
    "\n",
    "## Bloque 1 — Cargar los datos\n",
    "- Traemos la base del Titanic desde internet y miramos una fila de ejemplo.\n",
    "- **Idea:** “¿Qué columnas tenemos? ¿Luce correcto el archivo?”\n",
    "\n",
    "## Bloque 2 — Primera revisión\n",
    "- Vemos cuántas **filas/columnas** hay, **tipos de datos** y **cuántos faltan** por columna.\n",
    "- **Idea:** “Antes de trabajar, entendamos el estado de la base.”\n",
    "\n",
    "## Bloque 3 — Resumen técnico rápido\n",
    "- `info()` muestra tipos y si hay **valores nulos**.\n",
    "- **Idea:** confirmar lo de arriba de forma compacta.\n",
    "\n",
    "## Bloque 4 — Formato de `Survived`\n",
    "- Pasamos `Survived` a **verdadero/falso** para que sea claro.\n",
    "- **Idea:** luego lo usaremos solo para análisis (no para predecir el precio).\n",
    "\n",
    "## Bloque 5 — Recuento de nulos\n",
    "- Volvemos a listar cuántos faltan (checkpoint).\n",
    "- **Idea:** saber qué imputar (rellenar).\n",
    "\n",
    "## Bloque 6 — Limpieza básica\n",
    "- Rellenamos `Age` con la **mediana** (evita distorsiones por extremos).\n",
    "- Rellenamos `Cabin` y `Embarked` con “Not_defined” si faltan.\n",
    "- **Idea:** dejar la base **usable** sin romperse por valores vacíos.\n",
    "\n",
    "## Bloque 7 — Verificación de nulos\n",
    "- Comprobamos que la limpieza quedó bien.\n",
    "- **Idea:** “ok, ya podemos modelar”.\n",
    "\n",
    "## Bloque 8 — Parámetros del experimento\n",
    "- Definimos cosas como **porcentaje de prueba** (25%), **semilla aleatoria** (reproducible) y **máx. de variables** a seleccionar.\n",
    "- **Idea:** que los resultados sean comparables y ordenados.\n",
    "\n",
    "## Bloque 9 — Preparar variables (X/y) y nuevas señales\n",
    "- Copiamos la base a `df`.\n",
    "- Creamos **señales sencillas**:\n",
    "  - `FamilySize`: cuántos viajan juntos.\n",
    "  - `IsAlone`: si viaja solo.\n",
    "  - (Opcional) `Title`: título sacado del nombre (Mr/Mrs…).\n",
    "  - `Deck`: **piso de la cabina** (primera letra de `Cabin`).\n",
    "- Definimos el **objetivo** (`y`) = **`Fare`** y las **entradas** (`X`) = resto de columnas **útiles**.\n",
    "- Quitamos columnas que **no deben predecir**: `PassengerId`, `Name`, `Ticket`, `Survived`, `Cabin`.\n",
    "- Separamos qué columnas son **numéricas** y cuáles **categóricas**.\n",
    "- **Idea:** tener claro **qué predigo** (precio) y **con qué lo explico** (clase, sexo, piso, etc.).\n",
    "\n",
    "## Bloque 10 — Preprocesamiento + selección + modelo\n",
    "- **Preprocesamiento**:\n",
    "  - A las numéricas: completar faltantes y **escalar** (poner en misma “unidad”).\n",
    "  - A las categóricas: completar faltantes y **convertir a dummies** (0/1).\n",
    "- **Selección de variables**: `SelectKBest` elige las **más útiles** hasta un máximo (p. ej., 10).\n",
    "- **Modelo**: **Regresión Lineal**.\n",
    "- Todo se arma en un **pipeline** (tubería) para que **siempre** se apliquen los mismos pasos en el orden correcto.\n",
    "- Además generamos **nombres amigables** para entender luego los coeficientes.\n",
    "- **Idea:** automatizar y evitar “trampas” (no usar información del test al preparar el train).\n",
    "\n",
    "## Bloque 11 — Entrenamiento, métricas y gráfico\n",
    "- Partimos la data en **entrenamiento** (para aprender) y **prueba** (para evaluar).\n",
    "- Entrenamos el pipeline y **predecimos el precio** en el conjunto de prueba.\n",
    "- Métricas:\n",
    "  - **MAE**: error típico medio en **£**.  \n",
    "  - **RMSE**: como el MAE, pero **castiga más** los errores grandes.  \n",
    "  - **R²**: qué tanto del precio **explica** el modelo (1 = perfecto; 0 = como adivinar la media).\n",
    "- Gráfico **Real vs Predicho**:\n",
    "  - Puntos cerca de la diagonal ⇒ buenas predicciones.\n",
    "  - Si a precios altos hay más dispersión ⇒ es normal (precios “premium” son más variables).\n",
    "- **Idea:** comprobar que el modelo **funciona razonablemente**.\n",
    "\n",
    "## Bloque 12 — Qué variables empujan el precio (coeficientes)\n",
    "- Mostramos las **variables más influyentes** y si **suben** o **bajan** el precio:\n",
    "  - Barra a la **derecha** (coeficiente +): **aumenta** `Fare`.\n",
    "  - Barra a la **izquierda** (coeficiente −): **disminuye** `Fare`.\n",
    "- **Ejemplos esperables**: “Clase = 1” y ciertos “Deck” tienden a **subir** el precio; “Clase = 3” o “ViajaSolo” podrían **bajar**.\n",
    "- **Idea:** explicar, en lenguaje simple, **qué factores marcan la diferencia de precio**.\n",
    "\n",
    "## Bloque 13 — Supervivencia por cuartiles de precio (conclusión)\n",
    "- Dividimos `Fare` en **4 grupos** (de barato a caro).\n",
    "- Calculamos la **tasa de supervivencia** en cada grupo y la comparamos.\n",
    "- **Lectura**: si el grupo **más caro (Q4)** muestra **más supervivencia** que el **más barato (Q1)**, podemos decir:\n",
    "  - *“A mayor precio (estatus), mayor probabilidad de sobrevivir”*.\n",
    "- **Idea:** cerrar el círculo entre **estatus → precio → desenlace**.\n",
    "\n",
    "---\n",
    "\n",
    "## ¿Qué aprendemos en una frase?\n",
    "- El modelo muestra que **clase/piso/puerto/acompañamiento** ayudan a explicar el **precio del pasaje**, y que **quienes pagaron más** (estatus alto) **sobrevivieron más** en promedio.\n",
    "\n",
    "---\n",
    "\n",
    "## Requisitos del encargo (checklist)\n",
    "- **Selección de variables**: ✓ `SelectKBest`  \n",
    "- **Algoritmo**: ✓ Regresión Lineal  \n",
    "- **Métricas**: ✓ MAE, RMSE, R²  \n",
    "- **Conclusiones**: ✓ Gráfico de supervivencia por cuartiles de `Fare` y explicación\n"
   ]
  },
  {
   "cell_type": "code",
   "execution_count": null,
   "id": "c0cd6228",
   "metadata": {},
   "outputs": [],
   "source": []
  }
 ],
 "metadata": {
  "kernelspec": {
   "display_name": "Python 3",
   "language": "python",
   "name": "python3"
  },
  "language_info": {
   "codemirror_mode": {
    "name": "ipython",
    "version": 3
   },
   "file_extension": ".py",
   "mimetype": "text/x-python",
   "name": "python",
   "nbconvert_exporter": "python",
   "pygments_lexer": "ipython3",
   "version": "3.13.7"
  }
 },
 "nbformat": 4,
 "nbformat_minor": 5
}
